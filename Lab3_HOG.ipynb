{
  "nbformat": 4,
  "nbformat_minor": 0,
  "metadata": {
    "colab": {
      "name": "Lab3_HOG.ipynb",
      "provenance": [],
      "mount_file_id": "1ITOygbsRtXzIbH98hYahuB6vMWZpAPpU",
      "authorship_tag": "ABX9TyMMyL8RBVcOPBpI0N+aosjr",
      "include_colab_link": true
    },
    "kernelspec": {
      "name": "python3",
      "display_name": "Python 3"
    },
    "language_info": {
      "name": "python"
    }
  },
  "cells": [
    {
      "cell_type": "markdown",
      "metadata": {
        "id": "view-in-github",
        "colab_type": "text"
      },
      "source": [
        "<a href=\"https://colab.research.google.com/github/truongcan0512/Image-Processing/blob/main/Lab3_HOG.ipynb\" target=\"_parent\"><img src=\"https://colab.research.google.com/assets/colab-badge.svg\" alt=\"Open In Colab\"/></a>"
      ]
    },
    {
      "cell_type": "code",
      "execution_count": 3,
      "metadata": {
        "id": "f0JjlWociB-_"
      },
      "outputs": [],
      "source": [
        "training_dir = '/content/drive/MyDrive/Data/car_bus/training/'\n",
        "testing_dir = '/content/drive/MyDrive/Data/car_bus/testing/'"
      ]
    },
    {
      "cell_type": "code",
      "source": [
        "import os\n",
        "import cv2\n",
        "import numpy as np\n",
        "from skimage.feature import hog\n",
        "from sklearn.svm import SVC\n",
        "from sklearn.metrics import accuracy_score"
      ],
      "metadata": {
        "id": "At2ABBMjiHio"
      },
      "execution_count": 2,
      "outputs": []
    },
    {
      "cell_type": "code",
      "source": [
        "class_name = os.listdir(training_dir)\n",
        "class_name.sort()\n",
        "training_data_matrix = []\n",
        "training_label = []\n",
        "label = 0 # label=0-class0, label=1-class1, label=2-class2\n",
        "for obj_class in class_name:\n",
        "  files = os.listdir(training_dir + obj_class)\n",
        "  for image_name in files:\n",
        "    image_path = training_dir + obj_class + '/'+ image_name\n",
        "    im_gray = cv2.cvtColor(cv2.imread(image_path), cv2.COLOR_BGR2GRAY)\n",
        "    im_gray = cv2.resize(im_gray,(256,256))\n",
        "    fd, hog_image = hog(im_gray, orientations=8, pixels_per_cell=(16, 16),\n",
        "                    cells_per_block=(1, 1), visualize=True)\n",
        "    training_data_matrix.append(fd)\n",
        "    training_label.append(label)\n",
        "  label = label + 1\n",
        "\n",
        "\n",
        "training_data_matrix = np.array(training_data_matrix)\n",
        "training_label = np.array(training_label)"
      ],
      "metadata": {
        "id": "jQDXvrG6iJSF"
      },
      "execution_count": 4,
      "outputs": []
    },
    {
      "cell_type": "code",
      "source": [
        "testing_class_name = os.listdir(testing_dir)\n",
        "testing_class_name.sort()\n",
        "testing_data_matrix = []\n",
        "testing_label = []\n",
        "label = 0\n",
        "for obj_class in testing_class_name:\n",
        "  files = os.listdir(testing_dir + obj_class)\n",
        "  for image_name in files:\n",
        "    image_path = testing_dir + obj_class + '/' + image_name\n",
        "    im_gray = cv2.cvtColor(cv2.imread(image_path), cv2.COLOR_BGR2GRAY)\n",
        "    im_gray = cv2.resize(im_gray,(256,256))\n",
        "    fd, hog_image = hog(im_gray, orientations=8, pixels_per_cell=(16, 16),\n",
        "                    cells_per_block=(1, 1), visualize=True)\n",
        "    testing_data_matrix.append(fd)\n",
        "    testing_label.append(label)\n",
        "\n",
        "  label = label + 1\n",
        "\n",
        "testing_data_matrix = np.array(testing_data_matrix)\n",
        "testing_label = np.array(testing_label)"
      ],
      "metadata": {
        "id": "6KufPB64iPa6"
      },
      "execution_count": 5,
      "outputs": []
    },
    {
      "cell_type": "code",
      "source": [
        "svm_model = SVC(C=1, kernel=\"rbf\", gamma=\"scale\", probability=True)\n",
        "svm_model.fit(training_data_matrix, training_label)\n",
        "svm_model.score(testing_data_matrix,testing_label)"
      ],
      "metadata": {
        "colab": {
          "base_uri": "https://localhost:8080/"
        },
        "id": "8QN5YmvniSTO",
        "outputId": "e13b16e1-e649-485e-e135-bb7e03261408"
      },
      "execution_count": 6,
      "outputs": [
        {
          "output_type": "execute_result",
          "data": {
            "text/plain": [
              "0.5555555555555556"
            ]
          },
          "metadata": {},
          "execution_count": 6
        }
      ]
    },
    {
      "cell_type": "code",
      "source": [
        ""
      ],
      "metadata": {
        "id": "1xBVK4mNiT9j"
      },
      "execution_count": null,
      "outputs": []
    }
  ]
}