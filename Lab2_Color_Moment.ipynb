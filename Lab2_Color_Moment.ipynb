{
  "nbformat": 4,
  "nbformat_minor": 0,
  "metadata": {
    "colab": {
      "name": "Lab2_Color_Moment.ipynb",
      "provenance": [],
      "collapsed_sections": [],
      "mount_file_id": "1K_uE-lMQ56KNt-xuX3Xk39itk_3eINBe",
      "authorship_tag": "ABX9TyNxbcCdrgq36TfoZPD1fbsy",
      "include_colab_link": true
    },
    "kernelspec": {
      "name": "python3",
      "display_name": "Python 3"
    },
    "language_info": {
      "name": "python"
    }
  },
  "cells": [
    {
      "cell_type": "markdown",
      "metadata": {
        "id": "view-in-github",
        "colab_type": "text"
      },
      "source": [
        "<a href=\"https://colab.research.google.com/github/truongcan0512/Image-analysis/blob/main/Lab2_Color_Moment.ipynb\" target=\"_parent\"><img src=\"https://colab.research.google.com/assets/colab-badge.svg\" alt=\"Open In Colab\"/></a>"
      ]
    },
    {
      "cell_type": "code",
      "execution_count": null,
      "metadata": {
        "id": "pDSvIC6de9fX"
      },
      "outputs": [],
      "source": [
        "!unzip /content/drive/MyDrive/leedsbutterfly_dataset_v1.0.zip"
      ]
    },
    {
      "cell_type": "code",
      "source": [
        "import cv2\n",
        "import numpy as np\n",
        "import os\n",
        "from matplotlib import pyplot as plt\n",
        "from sklearn.cluster import KMeans\n",
        "from sklearn.utils import shuffle\n",
        "from sklearn.svm import SVC\n",
        "from sklearn.metrics import accuracy_score\n",
        "from sklearn.model_selection import train_test_split\n",
        "from sklearn.metrics import accuracy_score\n",
        "from sklearn.neighbors import KNeighborsClassifier"
      ],
      "metadata": {
        "id": "zaq0UCTjfLft"
      },
      "execution_count": 5,
      "outputs": []
    },
    {
      "cell_type": "code",
      "source": [
        "# Buoc 1: Trich xuat object pixel\n",
        "\"\"\"\n",
        "Ta se chon ra 30 images de tinh color centers\n",
        "Y tuong: \n",
        "- Voi moi object, ta tim ra nhung pixels khac khong bang cach tim\n",
        "trong mask.\n",
        "- Sau do, ung moi moi toa do x,y trong mask, ta match voi image -> obj pixels\n",
        "\"\"\"\n",
        "List_images = os.listdir(\"/content/leedsbutterfly/images\") #random\n",
        "num_images = len(List_images)\n",
        "OBJ_pixels = np.zeros((1,3)) \n",
        "\n",
        "# Chon 30 images de tinh color centers\n",
        "\n",
        "for i in range(0,30):\n",
        "  imBGR = cv2.imread(\"/content/leedsbutterfly/images/\" + List_images[i]) #Đọc ảnh, chỉ cần đưa tên đường dẫn ảnh vào -> ảnh BRG\n",
        "  imRGB = cv2.cvtColor(imBGR, cv2.COLOR_BGR2RGB) #Chuyển ảnh về dạng RGB\n",
        "  imRGB = imRGB/255 # Chuan hoa ve [0;1]\n",
        "\n",
        "  seg_path = \"/content/leedsbutterfly/segmentations/\" + List_images[i].replace(\".png\",\"_seg0.png\") # Cac goi file segmentation bang cach \".png\"-->\"_seg0.png\"\n",
        "  mask = cv2.imread(seg_path)\n",
        "  mask = cv2.cvtColor(mask, cv2.COLOR_BGR2RGB)\n",
        "\n",
        "  [x,y]=np.nonzero(mask[:,:,0]) # Ham nonzeros tra ve index cua cac phan tu khac 0 trong ma tran\n",
        "  obj=imRGB[x,y,:] # Lay pixel cua object\n",
        "  OBJ_pixels = np.concatenate((OBJ_pixels, obj), axis=0) # Noi cac obj theo hang"
      ],
      "metadata": {
        "id": "Ozi14SpHfRXw"
      },
      "execution_count": 6,
      "outputs": []
    },
    {
      "cell_type": "code",
      "source": [
        "# Buoc 2: Quantization\n",
        "\"\"\"\n",
        "Muc dich: Dua anh ve chi con 16 mau chinh.\n",
        "Y tuong:\n",
        "- Ta chon ra mot tap con bao gom 10.000 pixels trong tong so OBJ_pixels\n",
        "- Sau do, ta su dung clustering de phan cum du lieu ta thu duoc cac pixel\n",
        "centers, ta thay cac pixels bang cac pixel centers --> quantization\n",
        "\"\"\"\n",
        "\n",
        "sub_image_array = shuffle(OBJ_pixels,n_samples=10000) # Chon ngau nhien\n",
        "\n",
        "# Build model using KMeans with 16 clusters\n",
        "color_quantization_model = KMeans(n_clusters=16) # Build model\n",
        "color_quantization_model.fit(sub_image_array) # Fit model\n",
        "\n",
        "# Quantization image\n",
        "quantization_images = color_quantization_model.cluster_centers_[color_quantization_model.predict(OBJ_pixels)] #Chon ra 16 mau chinh cho 30 images\n",
        "#np.shape(quantization_images)\n",
        "#quantization_image = np.reshape(quantization_images,(768,1024,3)) #khoi phuc lai anh voi kich co ban dau\n",
        "#plt.imshow(quantization_image)\n",
        "#plt.show()"
      ],
      "metadata": {
        "id": "yxhH6NK4fmRx"
      },
      "execution_count": 28,
      "outputs": []
    },
    {
      "cell_type": "code",
      "source": [
        "import scipy\n",
        "# Buoc 3: Trich xuat dac trung cho anh, dua ve dang vector cua ML\n",
        "\"\"\"\n",
        "Muc dich: Voi moi anh, ta se xem xet so lan xuat hien cua moi centers\n",
        "Y tuong:\n",
        "- Su dung ham histogram trong thu vien numpy\n",
        "\"\"\"\n",
        "from scipy.stats import skew\n",
        "\n",
        "X=[] # feature vector includes E, sigma, skew for each image\n",
        "label=[] # label\n",
        "for i in range(0,num_images):\n",
        "  imBGR = cv2.imread(\"/content/leedsbutterfly/images/\" + List_images[i]) #Đọc ảnh, chỉ cần đưa tên đường dẫn ảnh vào -> ảnh BRG\n",
        "  imRGB = cv2.cvtColor(imBGR, cv2.COLOR_BGR2RGB) #Chuyển ảnh về dạng RGB\n",
        "  imRGB = imRGB/255\n",
        "\n",
        "  seg_path = \"/content/leedsbutterfly/segmentations/\" + List_images[i].replace(\".png\",\"_seg0.png\") # Cac goi file segmentation bang cach \".png\"-->\"_seg0.png\"\n",
        "  mask = cv2.imread(seg_path)\n",
        "  mask = cv2.cvtColor(mask, cv2.COLOR_BGR2RGB)\n",
        "\n",
        "  [x,y]=np.nonzero(mask[:,:,0]) # Ham nonzeros tra ve index cua cac phan tu khac 0 trong ma tran\n",
        "  obj=imRGB[x,y,:] # Lay pixel cua object\n",
        "  quantization_obj = color_quantization_model.cluster_centers_[color_quantization_model.predict(obj)]\n",
        "  color_id = color_quantization_model.predict(obj) #ma tran color_id bieu dien cac label cho moi pixel cua object\n",
        "\n",
        "  # Color Moment\n",
        "  E_red = np.mean(quantization_obj[:,0])\n",
        "  sigma_red = np.std(quantization_obj[:,0])\n",
        "  skew_red = scipy.stats.skew(quantization_obj[:,0])\n",
        "\n",
        "  E_green = np.mean(quantization_obj[:,1])\n",
        "  sigma_green = np.std(quantization_obj[:,1])\n",
        "  skew_green = scipy.stats.skew(quantization_obj[:,1])\n",
        "\n",
        "  E_blue = np.mean(quantization_obj[:,2])\n",
        "  sigma_blue = np.std(quantization_obj[:,2])\n",
        "  skew_blue = scipy.stats.skew(quantization_obj[:,2])\n",
        "\n",
        "\n",
        "  sample_image = [E_red,E_green,E_blue,sigma_red,sigma_green,sigma_blue,skew_red,skew_green,skew_blue ]\n",
        "  X.append(sample_image)\n",
        "  label.append(int(List_images[i][0:3]))"
      ],
      "metadata": {
        "id": "_bPpc06XfsGn"
      },
      "execution_count": 58,
      "outputs": []
    },
    {
      "cell_type": "code",
      "source": [
        "y = np.array(label)\n",
        "np.shape(X)"
      ],
      "metadata": {
        "colab": {
          "base_uri": "https://localhost:8080/"
        },
        "id": "7RtvCxwentPf",
        "outputId": "944c0c56-166d-4a2d-b630-06a33475823a"
      },
      "execution_count": 59,
      "outputs": [
        {
          "output_type": "execute_result",
          "data": {
            "text/plain": [
              "(832, 9)"
            ]
          },
          "metadata": {},
          "execution_count": 59
        }
      ]
    },
    {
      "cell_type": "code",
      "source": [
        "# Buoc 4: Tao training/test\n",
        "\n",
        "# Loai bo 30 phan tu dau tien \n",
        "X = np.array(X)\n",
        "y = np.array(label)\n",
        "X_data = X[30:]\n",
        "y_data = y[30:]\n",
        "\n",
        "# Lay moi class 15 images lam test\n",
        "X_test = []\n",
        "y_test = []\n",
        "X_train = []\n",
        "y_train = []\n",
        "count = 0\n",
        "for i in range(1,11):\n",
        "  tmp = 0\n",
        "  for j in range(0,np.shape(y_data)[0]):\n",
        "    if(y_data[j] == i and tmp < 15):\n",
        "      X_test.append(X_data[j])\n",
        "      y_test.append(y_data[j])\n",
        "      tmp = tmp+1\n",
        "    else:\n",
        "      if(count < np.shape(y_data)[0]):\n",
        "        y_train.append(y_data[j])\n",
        "        X_train.append(X_data[j])\n",
        "      count = count + 1\n",
        "\n",
        "X_test = np.array(X_test)\n",
        "y_test = np.array(y_test)\n",
        "X_train = np.array(X_train)\n",
        "y_train = np.array(y_train)"
      ],
      "metadata": {
        "id": "S8eng-KntzgG"
      },
      "execution_count": 60,
      "outputs": []
    },
    {
      "cell_type": "code",
      "source": [
        "knn_model=KNeighborsClassifier(n_neighbors=5)\n",
        "knn_model.fit(X_train,y_train)\n",
        "knn_test=knn_model.predict(X_test)\n",
        "print(\"Acc of KNN: \", accuracy_score(y_test, knn_test))\n",
        "\n",
        "svm_model = SVC(C=999999, kernel=\"rbf\", gamma=2, probability=True)\n",
        "svm_model.fit(X_train, y_train)\n",
        "print(\"Acc of SVM: \", svm_model.score(X_test, y_test))"
      ],
      "metadata": {
        "colab": {
          "base_uri": "https://localhost:8080/"
        },
        "id": "rTILN8F16dX6",
        "outputId": "85054e93-eba0-498e-d149-720945a87fe0"
      },
      "execution_count": 61,
      "outputs": [
        {
          "output_type": "stream",
          "name": "stdout",
          "text": [
            "Acc of KNN:  0.7666666666666667\n",
            "Acc of SVM:  0.98\n"
          ]
        }
      ]
    },
    {
      "cell_type": "code",
      "source": [
        ""
      ],
      "metadata": {
        "id": "Vjv48kjb6f1M"
      },
      "execution_count": null,
      "outputs": []
    }
  ]
}