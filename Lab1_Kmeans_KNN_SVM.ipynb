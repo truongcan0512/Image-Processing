{
  "nbformat": 4,
  "nbformat_minor": 0,
  "metadata": {
    "colab": {
      "name": "Lab1_Kmeans_KNN_SVM.ipynb",
      "provenance": [],
      "collapsed_sections": [],
      "authorship_tag": "ABX9TyND12gurcsySk3So0gGbWMr",
      "include_colab_link": true
    },
    "kernelspec": {
      "name": "python3",
      "display_name": "Python 3"
    },
    "language_info": {
      "name": "python"
    }
  },
  "cells": [
    {
      "cell_type": "markdown",
      "metadata": {
        "id": "view-in-github",
        "colab_type": "text"
      },
      "source": [
        "<a href=\"https://colab.research.google.com/github/truongcan0512/Image-analysis/blob/main/Lab1_Kmeans_KNN_SVM.ipynb\" target=\"_parent\"><img src=\"https://colab.research.google.com/assets/colab-badge.svg\" alt=\"Open In Colab\"/></a>"
      ]
    },
    {
      "cell_type": "code",
      "execution_count": null,
      "metadata": {
        "id": "yLQoEfYgIYUy"
      },
      "outputs": [],
      "source": [
        "import numpy as np\n",
        "from matplotlib import pyplot as plt\n",
        "from sklearn.datasets import make_blobs\n",
        "from sklearn.svm import SVC\n",
        "from sklearn.metrics import accuracy_score\n",
        "from sklearn.model_selection import train_test_split"
      ]
    },
    {
      "cell_type": "code",
      "source": [
        "def dist_vector_matrix(v,X):\n",
        "  return np.sqrt(np.sum((v-X)**2,axis=1))"
      ],
      "metadata": {
        "id": "qCPWJ2qVJpdv"
      },
      "execution_count": null,
      "outputs": []
    },
    {
      "cell_type": "code",
      "source": [
        "# Kmeans\n",
        "def Kmeans(X,K,threshold=0.001):\n",
        "  Centers=np.random.permutation(X)[0:K]\n",
        "  n_samples=np.shape(X)[0]\n",
        "  prev_Centers=np.empty(np.shape(Centers)[0])\n",
        "  d_Centers=100\n",
        "  while d_Centers > threshold:\n",
        "    prev_Centers=Centers\n",
        "    min_pos=[]\n",
        "    for i in range(0,n_samples):\n",
        "      min_pos.append(np.argmin(dist_vector_matrix(X[i],Centers)))\n",
        "\n",
        "    min_pos_np=np.array(min_pos)\n",
        "\n",
        "    # kiem tra xem da du K cum chua?\n",
        "    if (np.min(np.histogram(min_pos,bins=K,range=(0,K))[0])==0):\n",
        "      break\n",
        "  #Tinh lai centers\n",
        "    temp=[]\n",
        "    for i in range(0,K):\n",
        "      temp.append(np.mean(X[min_pos_np==i],axis=0))\n",
        "\n",
        "    Centers=np.array(temp)\n",
        "    d_Centers=dist_vector_matrix(prev_Centers,Centers)[0]\n",
        "    min_pos_prev=np.copy(min_pos)\n",
        "\n",
        "  min_pos = min_pos_prev\n",
        "  return min_pos, Centers\n",
        "\n",
        "# KNN\n",
        "def knn(X_test, X_training, y_training,k):\n",
        "  n_samples_test=np.shape(X_test)[0]\n",
        "  K=k\n",
        "  predict_label=[]\n",
        "  for i in range(0,n_samples_test):\n",
        "    D=dist_vector_matrix(X_test[i],X_training)\n",
        "    top_k=np.argsort(D)[0:K]\n",
        "    predict_label.append(np.argmax(np.histogram(y_training[top_k], bins=3, range=(0,3))[0]))\n",
        "\n",
        "  return np.array(predict_label)"
      ],
      "metadata": {
        "id": "D6Je_ucVKBJF"
      },
      "execution_count": null,
      "outputs": []
    },
    {
      "cell_type": "code",
      "source": [
        "# dataset 1\n",
        "X_blobs,y_blobs,c_blobs=make_blobs(n_samples=10000, n_features=2, centers=2, cluster_std=2.0,return_centers=True)\n",
        "X_blobs_train=X_blobs[0:8000]\n",
        "y_blobs_train=y_blobs[0:8000]\n",
        "\n",
        "X_blobs_test=X_blobs[8000:]\n",
        "y_blobs_test=y_blobs[8000:]\n",
        "\n",
        "# Kmean\n",
        "kmeans_label,kmeans_centers=Kmeans(X_blobs_test,len(c_blobs))\n",
        "accuracy_kmeans=accuracy_score(y_blobs_test, kmeans_label)\n",
        "print(accuracy_kmeans)\n",
        "# KNN\n",
        "knn_label=knn( X_blobs_test,X_blobs_train,y_blobs_train,len(c_blobs))\n",
        "accuracy_kmeans=accuracy_score(y_blobs_test, knn_label)\n",
        "print(accuracy_kmeans)\n",
        "# SVM\n",
        "mysvm = SVC(C=2, kernel=\"rbf\", gamma=2, probability=True)\n",
        "mysvm.fit(X_blobs_train,y_blobs_train)\n",
        "print(mysvm.score(X_blobs_test, y_blobs_test))"
      ],
      "metadata": {
        "colab": {
          "base_uri": "https://localhost:8080/"
        },
        "id": "3qgoD2pHLg58",
        "outputId": "8edccf65-a06d-467a-bc7d-db894ebd5694"
      },
      "execution_count": null,
      "outputs": [
        {
          "output_type": "stream",
          "name": "stdout",
          "text": [
            "0.9995\n",
            "0.9995\n",
            "0.998\n"
          ]
        }
      ]
    },
    {
      "cell_type": "code",
      "source": [
        "#dataset 2: Iris dataset:\n",
        "from sklearn.datasets import load_iris\n",
        "Iris = load_iris()\n",
        "X_iris= Iris.data\n",
        "y_iris= Iris.target\n",
        "\n",
        "X_iris_train, X_iris_test, y_iris_train, y_iris_test = train_test_split(X_iris, y_iris, test_size=0.2)\n",
        "\n",
        "# Kmean\n",
        "iris_kmeans_label,iris_kmeans_centers=Kmeans(X_iris_test,3)\n",
        "accuracy_iris_kmeans=accuracy_score(y_iris_test, iris_kmeans_label)\n",
        "print(accuracy_iris_kmeans)\n",
        "\n",
        "#KNN\n",
        "iris_knn_label=knn( X_iris_test,X_iris_train,y_iris_train,3)\n",
        "accuracy_iris_kmeans=accuracy_score(y_iris_test, iris_knn_label)\n",
        "print(accuracy_iris_kmeans)\n",
        "\n",
        "# SVM\n",
        "iris_mysvm = SVC(C=2, kernel=\"rbf\", gamma=2, probability=True)\n",
        "iris_mysvm.fit(X_iris_train,y_iris_train)\n",
        "print(iris_mysvm.score(X_iris_test, y_iris_test))\n"
      ],
      "metadata": {
        "colab": {
          "base_uri": "https://localhost:8080/"
        },
        "id": "6GhIIX5VMwZv",
        "outputId": "e5891cc4-10fa-40eb-cb5c-ed67ab62d6be"
      },
      "execution_count": null,
      "outputs": [
        {
          "output_type": "stream",
          "name": "stdout",
          "text": [
            "0.9\n",
            "0.9333333333333333\n",
            "0.9666666666666667\n"
          ]
        }
      ]
    },
    {
      "cell_type": "code",
      "source": [
        "#dataset 3: Digits dataset [ky tu viet tay img 8x8==> 64D] \n",
        "from sklearn.datasets import load_digits \n",
        "Digit = load_digits()\n",
        "X_digit= Digit.data\n",
        "y_digit= Digit.target\n",
        "X_digit_train, X_digit_test, y_digit_train, y_digit_test = train_test_split(X_digit, y_digit, test_size=0.2)\n",
        "\n",
        "# Kmean\n",
        "digit_kmeans_label,digit_kmeans_centers=Kmeans(X_digit_test,10)\n",
        "accuracy_digit_kmeans=accuracy_score(y_digit_test, digit_kmeans_label)\n",
        "print(accuracy_digit_kmeans)\n",
        "\n",
        "#KNN\n",
        "digit_knn_label=knn( X_digit_test,X_digit_train,y_digit_train,3)\n",
        "accuracy_digit_kmeans=accuracy_score(y_digit_test, digit_knn_label)\n",
        "print(accuracy_digit_kmeans)\n",
        "\n",
        "# SVM\n",
        "digit_mysvm = SVC(C=2, kernel=\"rbf\", gamma='scale', probability=True)\n",
        "digit_mysvm.fit(X_digit_train,y_digit_train)\n",
        "print(digit_mysvm.score(X_digit_test, y_digit_test))\n"
      ],
      "metadata": {
        "colab": {
          "base_uri": "https://localhost:8080/"
        },
        "id": "25zaEoZjVFkh",
        "outputId": "ed219e3e-2337-4d7c-81f9-db4fba685a93"
      },
      "execution_count": null,
      "outputs": [
        {
          "output_type": "stream",
          "name": "stdout",
          "text": [
            "0.18055555555555555\n",
            "0.2777777777777778\n",
            "0.9833333333333333\n"
          ]
        }
      ]
    },
    {
      "cell_type": "code",
      "source": [
        "from sklearn.cluster import KMeans\n",
        "kmeans=KMeans(n_clusters=len(c_blobs), random_state=None)\n",
        "kmeans.fit(X_blobs_train,y_blobs_train)\n",
        "kmeans_test=kmeans.predict(X_blobs_test)\n",
        "print(accuracy_score(y_blobs_test, kmeans_test))\n",
        "\n",
        "from sklearn.neighbors import KNeighborsClassifier\n",
        "knn=KNeighborsClassifier(n_neighbors=5)\n",
        "knn.fit(X_blobs_train,y_blobs_train)\n",
        "knn_test=knn.predict(X_blobs_test)\n",
        "print(accuracy_score(y_blobs_test, knn_test))"
      ],
      "metadata": {
        "colab": {
          "base_uri": "https://localhost:8080/"
        },
        "id": "gV0zcTWXWbQJ",
        "outputId": "8620a062-7c7a-47c2-8873-95ab8979c1ca"
      },
      "execution_count": null,
      "outputs": [
        {
          "output_type": "stream",
          "name": "stdout",
          "text": [
            "0.9995\n",
            "0.9995\n"
          ]
        }
      ]
    },
    {
      "cell_type": "code",
      "source": [
        ""
      ],
      "metadata": {
        "id": "Ad73sMpaahtc"
      },
      "execution_count": null,
      "outputs": []
    }
  ]
}