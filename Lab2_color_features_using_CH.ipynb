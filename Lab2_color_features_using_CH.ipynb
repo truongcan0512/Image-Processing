{
  "cells": [
    {
      "cell_type": "markdown",
      "metadata": {
        "id": "view-in-github",
        "colab_type": "text"
      },
      "source": [
        "<a href=\"https://colab.research.google.com/github/truongcan0512/Image-Processing/blob/main/Lab2_color_features_using_CH.ipynb\" target=\"_parent\"><img src=\"https://colab.research.google.com/assets/colab-badge.svg\" alt=\"Open In Colab\"/></a>"
      ]
    },
    {
      "cell_type": "code",
      "execution_count": null,
      "metadata": {
        "id": "48H-hBDIa1l9"
      },
      "outputs": [],
      "source": [
        "!unzip /content/drive/MyDrive/leedsbutterfly_dataset_v1.0.zip"
      ]
    },
    {
      "cell_type": "code",
      "execution_count": null,
      "metadata": {
        "id": "-xQon_USbISM"
      },
      "outputs": [],
      "source": [
        "import cv2\n",
        "import numpy as np\n",
        "import os\n",
        "from matplotlib import pyplot as plt\n",
        "from sklearn.cluster import KMeans\n",
        "from sklearn.utils import shuffle\n",
        "from sklearn.svm import SVC\n",
        "from sklearn.metrics import accuracy_score\n",
        "from sklearn.model_selection import train_test_split\n",
        "from sklearn.metrics import accuracy_score\n",
        "from sklearn.neighbors import KNeighborsClassifier"
      ]
    },
    {
      "cell_type": "code",
      "execution_count": null,
      "metadata": {
        "id": "0RjIginUb4Sh"
      },
      "outputs": [],
      "source": [
        "# Buoc 1: Trich xuat object pixel\n",
        "\"\"\"\n",
        "Ta se chon ra 30 images de tinh color centers\n",
        "Y tuong: \n",
        "- Voi moi object, ta tim ra nhung pixels khac khong bang cach tim\n",
        "trong mask.\n",
        "- Sau do, ung moi moi toa do x,y trong mask, ta match voi image -> obj pixels\n",
        "\"\"\"\n",
        "List_images = os.listdir(\"/content/leedsbutterfly/images\") #random\n",
        "num_images = len(List_images)\n",
        "OBJ_pixels = np.zeros((1,3))\n",
        "\n",
        "# Chon 30 images de tinh color centers\n",
        "\n",
        "for i in range(0,30):\n",
        "  imBGR = cv2.imread(\"/content/leedsbutterfly/images/\" + List_images[i]) #Đọc ảnh, chỉ cần đưa tên đường dẫn ảnh vào -> ảnh BRG\n",
        "  imRGB = cv2.cvtColor(imBGR, cv2.COLOR_BGR2RGB) #Chuyển ảnh về dạng RGB\n",
        "  imRGB = imRGB/255 # Chuan hoa ve [0;1]\n",
        "\n",
        "  seg_path = \"/content/leedsbutterfly/segmentations/\" + List_images[i].replace(\".png\",\"_seg0.png\") # Cac goi file segmentation bang cach \".png\"-->\"_seg0.png\"\n",
        "  mask = cv2.imread(seg_path)\n",
        "  mask = cv2.cvtColor(mask, cv2.COLOR_BGR2RGB)\n",
        "\n",
        "  [x,y]=np.nonzero(mask[:,:,0]) # Ham nonzeros tra ve index cua cac phan tu khac 0 trong ma tran\n",
        "  obj=imRGB[x,y,:] # Lay pixel cua object\n",
        "  OBJ_pixels = np.concatenate((OBJ_pixels, obj), axis=0) # Noi cac obj theo hang\n"
      ]
    },
    {
      "cell_type": "code",
      "execution_count": null,
      "metadata": {
        "id": "A74mI8yufrwI"
      },
      "outputs": [],
      "source": [
        "# Buoc 2: Quantization\n",
        "\"\"\"\n",
        "Muc dich: Dua anh ve chi con 16 mau chinh.\n",
        "Y tuong:\n",
        "- Ta chon ra mot tap con bao gom 10.000 pixels trong tong so OBJ_pixels\n",
        "- Sau do, ta su dung clustering de phan cum du lieu ta thu duoc cac pixel\n",
        "centers, ta thay cac pixels bang cac pixel centers --> quantization\n",
        "\"\"\"\n",
        "\n",
        "sub_image_array = shuffle(OBJ_pixels,n_samples=10000) # Chon ngau nhien 10.000 samples trong OBJ_pixels de xay dung model KMeans\n",
        "\n",
        "# Build model using KMeans with 16 clusters\n",
        "color_quantization_model = KMeans(n_clusters=16) # Build model\n",
        "color_quantization_model.fit(sub_image_array) # Fit model\n",
        "\n",
        "# Quantization image\n",
        "quantization_img = color_quantization_model.cluster_centers_[color_quantization_model.predict(OBJ_pixels)] #Chuyen moi pixel thanh center cua no\n"
      ]
    },
    {
      "cell_type": "code",
      "execution_count": null,
      "metadata": {
        "id": "THIMCWFUh6pu"
      },
      "outputs": [],
      "source": [
        "# Buoc 3: Trich xuat dac trung cho anh, dua ve dang vector cua ML\n",
        "\"\"\"\n",
        "Muc dich: Voi moi anh, ta se xem xet so lan xuat hien cua moi centers\n",
        "Y tuong:\n",
        "- Su dung ham histogram trong thu vien numpy\n",
        "\"\"\"\n",
        "X=[] # feature vector includes 16 color centers\n",
        "label=[] # label\n",
        "for i in range(0,num_images):\n",
        "  imBGR = cv2.imread(\"/content/leedsbutterfly/images/\" + List_images[i]) #Đọc ảnh, chỉ cần đưa tên đường dẫn ảnh vào -> ảnh BRG\n",
        "  imRGB = cv2.cvtColor(imBGR, cv2.COLOR_BGR2RGB) #Chuyển ảnh về dạng RGB\n",
        "  imRGB = imRGB/255\n",
        "\n",
        "  seg_path = \"/content/leedsbutterfly/segmentations/\" + List_images[i].replace(\".png\",\"_seg0.png\") # Cac goi file segmentation bang cach \".png\"-->\"_seg0.png\"\n",
        "  mask = cv2.imread(seg_path)\n",
        "  mask = cv2.cvtColor(mask, cv2.COLOR_BGR2RGB)\n",
        "\n",
        "  [x,y]=np.nonzero(mask[:,:,0]) # Ham nonzeros tra ve toa do cua cac phan tu khac 0 trong ma tran\n",
        "  obj=imRGB[x,y,:] # Lay pixel cua object\n",
        "  color_id = color_quantization_model.predict(obj) #ma tran color_id bieu dien cac label cho moi sample\n",
        "\n",
        "  # gia tri bins=so centers\n",
        "  color_histogram = np.histogram(color_id, bins=16)[0]/(np.shape(obj)[0]*np.shape(obj)[1]) #Tinh toan so lan xuat hien của moi label va chuan hoa\n",
        "  X.append(color_histogram)\n",
        "\n",
        "  label.append(int(List_images[i][0:3]))\n"
      ]
    },
    {
      "cell_type": "code",
      "execution_count": null,
      "metadata": {
        "id": "sEDxcb48mFIc"
      },
      "outputs": [],
      "source": [
        "# Chia du lieu thanh training/test (chon 15 images/class de test)\n",
        "# loai tru 30 images dau tien, va training phan con lai\n",
        "# Thu lai KNN, SVM ==> Acc?\n",
        "# Thay doi n_clustering ==> Acc?\n",
        "# Color Moment ==> Accc?"
      ]
    },
    {
      "cell_type": "code",
      "execution_count": null,
      "metadata": {
        "id": "_yzdfyaBmRc6"
      },
      "outputs": [],
      "source": [
        "# Buoc 4: Tao training/test\n",
        "\n",
        "# Loai bo 30 phan tu dau tien \n",
        "X = np.array(X)\n",
        "y = np.array(label)\n",
        "X_data = X[30:]\n",
        "y_data = y[30:]\n",
        "\n",
        "# Lay moi class 15 images lam test\n",
        "X_test = []\n",
        "y_test = []\n",
        "X_train = []\n",
        "y_train = []\n",
        "count = 0\n",
        "for i in range(1,11):\n",
        "  tmp = 0\n",
        "  for j in range(0,np.shape(y_data)[0]):\n",
        "    if(y_data[j] == i and tmp < 15):\n",
        "      X_test.append(X_data[j])\n",
        "      y_test.append(y_data[j])\n",
        "      tmp = tmp+1\n",
        "    else:\n",
        "      if(count < np.shape(y_data)[0]):\n",
        "        y_train.append(y_data[j])\n",
        "        X_train.append(X_data[j])\n",
        "      count = count + 1\n",
        "\n",
        "X_test = np.array(X_test)\n",
        "y_test = np.array(y_test)\n",
        "X_train = np.array(X_train)\n",
        "y_train = np.array(y_train)\n"
      ]
    },
    {
      "cell_type": "code",
      "source": [
        "knn_model=KNeighborsClassifier(n_neighbors=5)\n",
        "knn_model.fit(X_train,y_train)\n",
        "knn_test=knn_model.predict(X_test)\n",
        "print(\"Acc of KNN: \", accuracy_score(y_test, knn_test))\n",
        "\n",
        "svm_model = SVC(C=999999, kernel=\"rbf\", gamma=2, probability=True)\n",
        "svm_model.fit(X_train, y_train)\n",
        "print(\"Acc of SVM: \", svm_model.score(X_test, y_test))\n"
      ],
      "metadata": {
        "id": "mXFQhMVkHski",
        "colab": {
          "base_uri": "https://localhost:8080/"
        },
        "outputId": "d63540dc-1c26-4612-b22b-46d5568c68df"
      },
      "execution_count": null,
      "outputs": [
        {
          "output_type": "stream",
          "name": "stdout",
          "text": [
            "Acc of KNN:  0.7733333333333333\n",
            "Acc of SVM:  0.9933333333333333\n"
          ]
        }
      ]
    },
    {
      "cell_type": "code",
      "source": [
        "\n"
      ],
      "metadata": {
        "id": "TWR7ST8VH5gs"
      },
      "execution_count": null,
      "outputs": []
    }
  ],
  "metadata": {
    "colab": {
      "name": "Lab2_color_features_using_CH.ipynb",
      "provenance": [],
      "collapsed_sections": [],
      "mount_file_id": "1-wUbr5eGDFVlr4vGLhX20fXnrvlQoyj4",
      "authorship_tag": "ABX9TyM9W1xkI0tSZoOzGFHt6ggG",
      "include_colab_link": true
    },
    "kernelspec": {
      "display_name": "Python 3",
      "name": "python3"
    },
    "language_info": {
      "name": "python"
    }
  },
  "nbformat": 4,
  "nbformat_minor": 0
}