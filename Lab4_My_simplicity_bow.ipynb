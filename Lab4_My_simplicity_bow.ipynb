{
  "cells": [
    {
      "cell_type": "markdown",
      "metadata": {
        "id": "view-in-github",
        "colab_type": "text"
      },
      "source": [
        "<a href=\"https://colab.research.google.com/github/truongcan0512/Image-Processing/blob/main/My_simplicity_bow.ipynb\" target=\"_parent\"><img src=\"https://colab.research.google.com/assets/colab-badge.svg\" alt=\"Open In Colab\"/></a>"
      ]
    },
    {
      "cell_type": "code",
      "execution_count": 1,
      "metadata": {
        "id": "lbUlw4uYMmbb"
      },
      "outputs": [],
      "source": [
        "\n",
        "import os\n",
        "\n"
      ]
    },
    {
      "cell_type": "code",
      "execution_count": 1,
      "metadata": {
        "id": "cftVcBKMMmbe"
      },
      "outputs": [],
      "source": [
        ""
      ]
    },
    {
      "cell_type": "code",
      "source": [
        "from google.colab import drive\n",
        "drive.mount('/content/drive')"
      ],
      "metadata": {
        "id": "soAdnv0ALA74",
        "outputId": "1c62b7df-96e4-4790-d467-dcde1f48b480",
        "colab": {
          "base_uri": "https://localhost:8080/"
        }
      },
      "execution_count": 2,
      "outputs": [
        {
          "output_type": "stream",
          "name": "stdout",
          "text": [
            "Mounted at /content/drive\n"
          ]
        }
      ]
    },
    {
      "cell_type": "code",
      "source": [
        "data_dir = '/content/drive/MyDrive/Data/Simplycity'"
      ],
      "metadata": {
        "id": "cBBWGU8xLKDe"
      },
      "execution_count": 3,
      "outputs": []
    },
    {
      "cell_type": "code",
      "execution_count": 4,
      "metadata": {
        "id": "bsU09iznMmbe"
      },
      "outputs": [],
      "source": [
        "impath= os.listdir(data_dir)"
      ]
    },
    {
      "cell_type": "code",
      "execution_count": 5,
      "metadata": {
        "scrolled": true,
        "colab": {
          "base_uri": "https://localhost:8080/"
        },
        "id": "3rFewTB8Mmbe",
        "outputId": "1cdedd80-f581-4630-fe97-b9c1f3af0799"
      },
      "outputs": [
        {
          "output_type": "execute_result",
          "data": {
            "text/plain": [
              "['7', '6', '0', '4', '3', '9', '2', '5', '8', '1']"
            ]
          },
          "metadata": {},
          "execution_count": 5
        }
      ],
      "source": [
        "impath"
      ]
    },
    {
      "cell_type": "code",
      "execution_count": null,
      "metadata": {
        "id": "mDLPqnknMmbf"
      },
      "outputs": [],
      "source": [
        "!pip install opencv-python==3.4.2.17\n",
        "!pip install opencv-contrib-python==3.4.2.17"
      ]
    },
    {
      "cell_type": "code",
      "source": [
        "import cv2\n",
        "import numpy as np"
      ],
      "metadata": {
        "id": "4dhOKaz3W3qo"
      },
      "execution_count": 7,
      "outputs": []
    },
    {
      "cell_type": "code",
      "execution_count": 8,
      "metadata": {
        "id": "Mq_a-3rDMmbf"
      },
      "outputs": [],
      "source": [
        "#Read images from database:"
      ]
    },
    {
      "cell_type": "code",
      "execution_count": 9,
      "metadata": {
        "scrolled": true,
        "id": "jBETcuvmMmbg"
      },
      "outputs": [],
      "source": [
        "# Tao list images va list id\n",
        "train_image_list=[]\n",
        "train_id=[]\n",
        "test_image_list=[]\n",
        "test_id=[]\n",
        "for path in impath:\n",
        "    class_path = data_dir + \"/\" +path\n",
        "    image_names= os.listdir(class_path)\n",
        "    image_path=[]\n",
        "    image_id=[]\n",
        "    for image in image_names:\n",
        "        image_path.append(class_path+'/'+ image)\n",
        "        image_id.append(int(path))\n",
        "   # Chon ngau nhien 60 anh lam train,40 anh moi class lam anh test\n",
        "    y=np.arange(100)\n",
        "    np.random.shuffle(y)\n",
        "    train_image_list+= [image_path[i] for i in y[0:60]]\n",
        "    test_image_list+=[image_path[i] for i in y[60:100]]\n",
        "    train_id+=[image_id[i] for i in y[0:60]]\n",
        "    test_id+=[image_id[i] for i in y[60:100]]\n"
      ]
    },
    {
      "cell_type": "code",
      "execution_count": 14,
      "metadata": {
        "id": "O1BE7Fk9Mmbh"
      },
      "outputs": [],
      "source": [
        "# orb\n",
        "# Initiate FAST detector\n",
        "orb = cv2.ORB_create()\n",
        "All_orb=[]# list contain all orb vectors from all training images:\n",
        "for image in train_image_list:\n",
        "    img = cv2.imread(image)\n",
        "\n",
        "    kp, des = orb.detectAndCompute(img,None)\n",
        "    for d in des:\n",
        "        All_orb.append(d)"
      ]
    },
    {
      "cell_type": "code",
      "execution_count": 15,
      "metadata": {
        "id": "edCS5SkKMmbh"
      },
      "outputs": [],
      "source": [
        "from matplotlib import pyplot as plt"
      ]
    },
    {
      "cell_type": "code",
      "execution_count": 16,
      "metadata": {
        "id": "oJA3DdieMmbk"
      },
      "outputs": [],
      "source": [
        "from sklearn.cluster import MiniBatchKMeans"
      ]
    },
    {
      "cell_type": "code",
      "execution_count": null,
      "metadata": {
        "collapsed": true,
        "id": "fhq1xk88Mmbk"
      },
      "outputs": [],
      "source": [
        "##Thuc hien clustering tren BREIF-descriptors de tao codewords:\n",
        "Number_code_words= 500\n",
        "batch_size = 3000 # 3 * tong so anh=1000 \n",
        "kmeans = MiniBatchKMeans(n_clusters=Number_code_words, batch_size=batch_size, verbose=1).fit(All_orb)"
      ]
    },
    {
      "cell_type": "code",
      "execution_count": 29,
      "metadata": {
        "id": "EIDy3JHJMmbl"
      },
      "outputs": [],
      "source": [
        "# Bieu dien tung anh thanh BOW\n",
        "# Xap xi moi vector orb boi code word, sau do tinh histogram:\n"
      ]
    },
    {
      "cell_type": "code",
      "execution_count": 30,
      "metadata": {
        "id": "PrqQ1TWjMmbl"
      },
      "outputs": [],
      "source": [
        "kmeans.verbose = False\n",
        "train_img_bow = []\n",
        "for image in train_image_list:\n",
        "    img = cv2.imread(image)\n",
        "    kp, des = orb.detectAndCompute(img,None)\n",
        "\n",
        "    histo = np.zeros(Number_code_words) #\n",
        "    nkp = np.size(kp)  #nkp: number of keypoints\n",
        "\n",
        "    for d in des:\n",
        "        idx = kmeans.predict([d])\n",
        "        histo[idx] += 1\n",
        "        \n",
        "    histo=np.array(histo) # chuyen ve dang vector numpy\n",
        "    histo=histo/nkp # normalized\n",
        "\n",
        "    train_img_bow.append(histo)"
      ]
    },
    {
      "cell_type": "code",
      "execution_count": 31,
      "metadata": {
        "id": "4C12FLzIMmbl"
      },
      "outputs": [],
      "source": [
        "# Test\n",
        "kmeans.verbose = False\n",
        "test_img_bow = []\n",
        "\n",
        "for image in test_image_list:\n",
        "    img = cv2.imread(image)\n",
        "    kp, des = orb.detectAndCompute(img,None)\n",
        "    histo = np.zeros(Number_code_words) \n",
        "\n",
        "    nkp = np.size(kp)  #nkp: number of keypoints\n",
        "    for d in des:\n",
        "      idx = kmeans.predict([d])\n",
        "      histo[idx] += 1\n",
        "        \n",
        "    histo=np.array(histo) # chuyen ve dang vector numpy\n",
        "    histo=histo/nkp # normalized\n",
        "\n",
        "    test_img_bow.append(histo)\n",
        "\n"
      ]
    },
    {
      "cell_type": "code",
      "source": [
        ""
      ],
      "metadata": {
        "id": "qKgvSmlvvslT"
      },
      "execution_count": 31,
      "outputs": []
    },
    {
      "cell_type": "code",
      "execution_count": 32,
      "metadata": {
        "id": "QJqDZgOrMmbm"
      },
      "outputs": [],
      "source": [
        "train_id = np.array(train_id)\n",
        "test_id = np.array(test_id)"
      ]
    },
    {
      "cell_type": "code",
      "execution_count": 33,
      "metadata": {
        "id": "53g6A113Mmbm"
      },
      "outputs": [],
      "source": [
        "## Su dung SVM Classification"
      ]
    },
    {
      "cell_type": "code",
      "execution_count": 34,
      "metadata": {
        "id": "L2piVOMyMmbm",
        "outputId": "28bffc2f-532b-4d31-cb53-14fdc2e86a85",
        "colab": {
          "base_uri": "https://localhost:8080/"
        }
      },
      "outputs": [
        {
          "output_type": "execute_result",
          "data": {
            "text/plain": [
              "0.4375"
            ]
          },
          "metadata": {},
          "execution_count": 34
        }
      ],
      "source": [
        "X = np.array(train_img_bow)\n",
        "Testbow=np.array(test_img_bow)\n",
        "Y = train_id\n",
        "\n",
        "from sklearn.svm import SVC\n",
        "\n",
        "\n",
        "classifier = SVC(gamma=30, C=10.0)\n",
        "classifier.fit(X,Y)\n",
        "res=classifier.predict(Testbow)\n",
        "\n",
        "accuracy = sum(res==test_id)/len(test_id)\n",
        "accuracy"
      ]
    },
    {
      "cell_type": "code",
      "execution_count": 35,
      "metadata": {
        "id": "6uv-f3S2Mmbm",
        "outputId": "fc2e647c-93e3-4857-fb80-babb11fb3d56",
        "colab": {
          "base_uri": "https://localhost:8080/"
        }
      },
      "outputs": [
        {
          "output_type": "execute_result",
          "data": {
            "text/plain": [
              "0.445"
            ]
          },
          "metadata": {},
          "execution_count": 35
        }
      ],
      "source": [
        "classifier = SVC(C=2.5,kernel='rbf',gamma='scale')\n",
        "classifier.fit(X,Y)\n",
        "res=classifier.predict(Testbow)\n",
        "accuracy = sum(res==test_id)/len(test_id)\n",
        "accuracy"
      ]
    },
    {
      "cell_type": "code",
      "source": [
        "classifier = SVC(C=2.5,kernel='poly',gamma='scale')\n",
        "classifier.fit(X,Y)\n",
        "res=classifier.predict(Testbow)\n",
        "accuracy = sum(res==test_id)/len(test_id)\n",
        "accuracy"
      ],
      "metadata": {
        "id": "qPSPAhgvTUSr",
        "outputId": "1188d5a2-59f2-4020-a4c1-a22ae66e345e",
        "colab": {
          "base_uri": "https://localhost:8080/"
        }
      },
      "execution_count": 36,
      "outputs": [
        {
          "output_type": "execute_result",
          "data": {
            "text/plain": [
              "0.44"
            ]
          },
          "metadata": {},
          "execution_count": 36
        }
      ]
    },
    {
      "cell_type": "code",
      "source": [
        "classifier = SVC(C=2.5,kernel='linear',gamma='scale')\n",
        "classifier.fit(X,Y)\n",
        "res=classifier.predict(Testbow)\n",
        "accuracy = sum(res==test_id)/len(test_id)\n",
        "accuracy"
      ],
      "metadata": {
        "id": "peW867LSTeV6",
        "outputId": "e58af6e4-6fe8-49ef-9a01-6b93a6d75a2c",
        "colab": {
          "base_uri": "https://localhost:8080/"
        }
      },
      "execution_count": 37,
      "outputs": [
        {
          "output_type": "execute_result",
          "data": {
            "text/plain": [
              "0.345"
            ]
          },
          "metadata": {},
          "execution_count": 37
        }
      ]
    },
    {
      "cell_type": "code",
      "source": [
        "classifier = SVC(C=2.5,kernel='sigmoid',gamma='scale')\n",
        "classifier.fit(X,Y)\n",
        "res=classifier.predict(Testbow)\n",
        "accuracy = sum(res==test_id)/len(test_id)\n",
        "accuracy"
      ],
      "metadata": {
        "id": "-TvzQdZbTjrx",
        "outputId": "60a12d69-dbf9-4124-d65f-a722fcef7eee",
        "colab": {
          "base_uri": "https://localhost:8080/"
        }
      },
      "execution_count": 38,
      "outputs": [
        {
          "output_type": "execute_result",
          "data": {
            "text/plain": [
              "0.435"
            ]
          },
          "metadata": {},
          "execution_count": 38
        }
      ]
    },
    {
      "cell_type": "code",
      "source": [
        "# Thu cac detector, descriptor khac...\n",
        "# kich thuoc tu dien khac nhau\n",
        "# SVM +kernel khac nhau\n",
        "#===> ACC???"
      ],
      "metadata": {
        "id": "dtObwXSMZ_3d"
      },
      "execution_count": null,
      "outputs": []
    },
    {
      "cell_type": "code",
      "source": [
        ""
      ],
      "metadata": {
        "id": "jERiJuKyVJbi"
      },
      "execution_count": null,
      "outputs": []
    }
  ],
  "metadata": {
    "kernelspec": {
      "display_name": "Python 3",
      "language": "python",
      "name": "python3"
    },
    "language_info": {
      "codemirror_mode": {
        "name": "ipython",
        "version": 3
      },
      "file_extension": ".py",
      "mimetype": "text/x-python",
      "name": "python",
      "nbconvert_exporter": "python",
      "pygments_lexer": "ipython3",
      "version": "3.7.4"
    },
    "colab": {
      "name": "My_simplicity_bow.ipynb",
      "provenance": [],
      "collapsed_sections": [],
      "include_colab_link": true
    }
  },
  "nbformat": 4,
  "nbformat_minor": 0
}
